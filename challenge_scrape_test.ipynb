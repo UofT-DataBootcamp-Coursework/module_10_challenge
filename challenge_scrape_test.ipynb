{
 "cells": [
  {
   "cell_type": "code",
   "execution_count": 1,
   "metadata": {},
   "outputs": [],
   "source": [
    "# Import Splinter and BeautifulSoup\n",
    "from splinter import Browser\n",
    "from bs4 import BeautifulSoup\n",
    "\n",
    "import pandas as pd\n",
    "import datetime as dt\n",
    "\n",
    "\n",
    "# Set the executable path and initialize the chrome browser in splinter\n",
    "executable_path = {'executable_path': 'chromedriver'}\n",
    "browser = Browser('chrome', **executable_path, headless=True)\n",
    "\n",
    "def challenge_scrape(browser):\n",
    "    # Set the executable path and initialize the chrome browser in splinter\n",
    "    executable_path = {'executable_path': 'chromedriver'}\n",
    "    browser = Browser('chrome', **executable_path, headless=True)\n",
    "    \n",
    "    # Visit URL\n",
    "    url = 'https://2u-data-curriculum-team.s3.amazonaws.com/dataviz-online-content/module_10/Astropedia+Search+Results+_+USGS+Astrogeology+Science+Center.htm'\n",
    "    browser.visit(url)\n",
    "    # Optional delay for loading the page\n",
    "    browser.is_element_present_by_css('div.item a.product-item', wait_time=1)\n",
    "    \n",
    "    # Parse the resulting html with soup\n",
    "    html = browser.html\n",
    "    challenge_soup = BeautifulSoup(html, 'html.parser')\n",
    "    \n",
    "    # Create empty list to store individual hemi links\n",
    "    hemispheres = []\n",
    "    \n",
    "    for i in (0,2,4,6):\n",
    "        hemi_link = challenge_soup.select('div.item a.product-item')[i].get('href')\n",
    "            \n",
    "        hemispheres.append(hemi_link)\n",
    "    \n",
    "    # Create empty list to store hemi title and image\n",
    "    hemi_challenge = []\n",
    "    \n",
    "    for i in range(4):\n",
    "        # Visit hemisphere link\n",
    "        url = hemispheres[i]\n",
    "        browser.visit(url)\n",
    "\n",
    "        # Parse the resulting html with soup\n",
    "        html = browser.html\n",
    "        challenge_soup = BeautifulSoup(html, 'html.parser')\n",
    "        \n",
    "        # Find the title\n",
    "        title = challenge_soup.find('h2', class_='title').get_text()\n",
    "        \n",
    "        # Find the relative image url\n",
    "        img_url = challenge_soup.select_one('ul li a').get('href')\n",
    "        \n",
    "        # Add title and image to hemi_challenge\n",
    "        hemisphere = {\n",
    "            'title' : title,\n",
    "            'img_url' : img_url\n",
    "        }\n",
    "        \n",
    "        # append the dict to hemi_challenge\n",
    "        hemi_challenge.append(hemisphere)\n",
    "        \n",
    "    return hemi_challenge"
   ]
  },
  {
   "cell_type": "code",
   "execution_count": 5,
   "metadata": {},
   "outputs": [],
   "source": [
    "hemi_challenge = challenge_scrape(browser)"
   ]
  },
  {
   "cell_type": "code",
   "execution_count": 6,
   "metadata": {},
   "outputs": [
    {
     "name": "stdout",
     "output_type": "stream",
     "text": [
      "https://astropedia.astrogeology.usgs.gov/download/Mars/Viking/cerberus_enhanced.tif/full.jpg\n",
      "https://astropedia.astrogeology.usgs.gov/download/Mars/Viking/schiaparelli_enhanced.tif/full.jpg\n",
      "https://astropedia.astrogeology.usgs.gov/download/Mars/Viking/syrtis_major_enhanced.tif/full.jpg\n",
      "https://astropedia.astrogeology.usgs.gov/download/Mars/Viking/valles_marineris_enhanced.tif/full.jpg\n"
     ]
    }
   ],
   "source": [
    "for c in hemi_challenge:\n",
    "    print(c['img_url'])"
   ]
  }
 ],
 "metadata": {
  "kernelspec": {
   "display_name": "PythonData",
   "language": "python",
   "name": "pythondata"
  },
  "language_info": {
   "codemirror_mode": {
    "name": "ipython",
    "version": 3
   },
   "file_extension": ".py",
   "mimetype": "text/x-python",
   "name": "python",
   "nbconvert_exporter": "python",
   "pygments_lexer": "ipython3",
   "version": "3.7.7"
  }
 },
 "nbformat": 4,
 "nbformat_minor": 4
}
